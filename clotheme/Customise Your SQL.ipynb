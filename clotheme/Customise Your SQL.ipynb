{
 "cells": [
  {
   "cell_type": "markdown",
   "metadata": {},
   "source": [
    "\n",
    "# Django - Customise Your SQL\n"
   ]
  },
  {
   "cell_type": "markdown",
   "metadata": {},
   "source": [
    "\n",
    "## Josh Smeaton\n",
    "<hr>\n",
    "- jarshwah on #django / Twitter / Github\n",
    "- Software Engineer at Engage/LivePerson\n",
    "- SQL Nerd\n",
    "- Django Core Developer\n",
    "- Primary author of Expressions\n"
   ]
  },
  {
   "cell_type": "markdown",
   "metadata": {},
   "source": []
  },
  {
   "cell_type": "markdown",
   "metadata": {},
   "source": []
  },
  {
   "cell_type": "markdown",
   "metadata": {},
   "source": [
    "## Recent Developments\n",
    "<hr>\n",
    "- Lookups (1.7)\n",
    "\n",
    "```python\n",
    "Product.objects.filter(tagarray__contains=['large', 'jumper'])\n",
    "```\n",
    "\n",
    "- Transforms (1.7)\n",
    "\n",
    "```python\n",
    "Product.objects.filter(name__lower__contains='jumper')\n",
    "```\n",
    "\n",
    "- Expressions (1.8)\n",
    "\n",
    "```python\n",
    "Sale.objects.annotate(\n",
    "    sale_month=TruncMonth('sale_date')\n",
    ").values('sale_month').annotate(sales_per_month=Count('id'))\n",
    "```\n"
   ]
  },
  {
   "cell_type": "markdown",
   "metadata": {},
   "source": []
  },
  {
   "cell_type": "markdown",
   "metadata": {},
   "source": []
  },
  {
   "cell_type": "markdown",
   "metadata": {},
   "source": [
    "## Sales Reporting"
   ]
  },
  {
   "cell_type": "raw",
   "metadata": {},
   "source": []
  },
  {
   "cell_type": "code",
   "execution_count": 1,
   "metadata": {
    "collapsed": false
   },
   "outputs": [
    {
     "data": {
      "text/html": [
       "<div>\n",
       "<table border=\"1\" class=\"dataframe\">\n",
       "  <thead>\n",
       "    <tr style=\"text-align: right;\">\n",
       "      <th></th>\n",
       "      <th>product__category</th>\n",
       "      <th>revenue</th>\n",
       "      <th>sales</th>\n",
       "    </tr>\n",
       "  </thead>\n",
       "  <tbody>\n",
       "    <tr>\n",
       "      <th>0</th>\n",
       "      <td>Women</td>\n",
       "      <td>39359.00</td>\n",
       "      <td>332</td>\n",
       "    </tr>\n",
       "    <tr>\n",
       "      <th>1</th>\n",
       "      <td>Men</td>\n",
       "      <td>41281.00</td>\n",
       "      <td>340</td>\n",
       "    </tr>\n",
       "    <tr>\n",
       "      <th>2</th>\n",
       "      <td>Kids</td>\n",
       "      <td>10245.00</td>\n",
       "      <td>328</td>\n",
       "    </tr>\n",
       "  </tbody>\n",
       "</table>\n",
       "</div>"
      ],
      "text/plain": [
       "  product__category   revenue  sales\n",
       "0             Women  39359.00    332\n",
       "1               Men  41281.00    340\n",
       "2              Kids  10245.00    328"
      ]
     },
     "metadata": {},
     "output_type": "display_data"
    }
   ],
   "source": [
    "from IPython.display import display\n",
    "from shop.functions import table\n",
    "qs = Sale.objects.values('product__category').annotate(\n",
    "    sales=Count('id'),\n",
    "    revenue=Sum('sale_price')\n",
    ")\n",
    "display(table(qs))"
   ]
  },
  {
   "cell_type": "code",
   "execution_count": null,
   "metadata": {
    "collapsed": false
   },
   "outputs": [],
   "source": [
    "\n",
    "\n"
   ]
  },
  {
   "cell_type": "code",
   "execution_count": 2,
   "metadata": {
    "collapsed": false
   },
   "outputs": [
    {
     "data": {
      "text/html": [
       "<div>\n",
       "<table border=\"1\" class=\"dataframe\">\n",
       "  <thead>\n",
       "    <tr style=\"text-align: right;\">\n",
       "      <th></th>\n",
       "      <th>category</th>\n",
       "      <th>cost_price</th>\n",
       "      <th>id</th>\n",
       "      <th>name</th>\n",
       "    </tr>\n",
       "  </thead>\n",
       "  <tbody>\n",
       "    <tr>\n",
       "      <th>0</th>\n",
       "      <td>Kids</td>\n",
       "      <td>10.00</td>\n",
       "      <td>62</td>\n",
       "      <td>Gloves</td>\n",
       "    </tr>\n",
       "    <tr>\n",
       "      <th>1</th>\n",
       "      <td>Kids</td>\n",
       "      <td>15.00</td>\n",
       "      <td>61</td>\n",
       "      <td>Gum Boots</td>\n",
       "    </tr>\n",
       "    <tr>\n",
       "      <th>2</th>\n",
       "      <td>Women</td>\n",
       "      <td>18.50</td>\n",
       "      <td>60</td>\n",
       "      <td>Scarf</td>\n",
       "    </tr>\n",
       "    <tr>\n",
       "      <th>3</th>\n",
       "      <td>Men</td>\n",
       "      <td>19.00</td>\n",
       "      <td>57</td>\n",
       "      <td>Beanie</td>\n",
       "    </tr>\n",
       "    <tr>\n",
       "      <th>4</th>\n",
       "      <td>Kids</td>\n",
       "      <td>35.00</td>\n",
       "      <td>63</td>\n",
       "      <td>Rain Jacket</td>\n",
       "    </tr>\n",
       "    <tr>\n",
       "      <th>5</th>\n",
       "      <td>Women</td>\n",
       "      <td>90.00</td>\n",
       "      <td>58</td>\n",
       "      <td>Boots</td>\n",
       "    </tr>\n",
       "    <tr>\n",
       "      <th>6</th>\n",
       "      <td>Men</td>\n",
       "      <td>120.00</td>\n",
       "      <td>55</td>\n",
       "      <td>Leather Shoes</td>\n",
       "    </tr>\n",
       "    <tr>\n",
       "      <th>7</th>\n",
       "      <td>Men</td>\n",
       "      <td>190.00</td>\n",
       "      <td>56</td>\n",
       "      <td>Winter Coat</td>\n",
       "    </tr>\n",
       "    <tr>\n",
       "      <th>8</th>\n",
       "      <td>Women</td>\n",
       "      <td>210.00</td>\n",
       "      <td>59</td>\n",
       "      <td>Long Overcoat</td>\n",
       "    </tr>\n",
       "  </tbody>\n",
       "</table>\n",
       "</div>"
      ],
      "text/plain": [
       "  category cost_price  id           name\n",
       "0     Kids      10.00  62         Gloves\n",
       "1     Kids      15.00  61      Gum Boots\n",
       "2    Women      18.50  60          Scarf\n",
       "3      Men      19.00  57         Beanie\n",
       "4     Kids      35.00  63    Rain Jacket\n",
       "5    Women      90.00  58          Boots\n",
       "6      Men     120.00  55  Leather Shoes\n",
       "7      Men     190.00  56    Winter Coat\n",
       "8    Women     210.00  59  Long Overcoat"
      ]
     },
     "metadata": {},
     "output_type": "display_data"
    }
   ],
   "source": [
    "from IPython.display import display\n",
    "from shop.functions import sql, dataframe\n",
    "df = dataframe(Product.objects.values().order_by('cost_price'))\n",
    "display(df)"
   ]
  },
  {
   "cell_type": "code",
   "execution_count": 3,
   "metadata": {
    "collapsed": false
   },
   "outputs": [
    {
     "name": "stdout",
     "output_type": "stream",
     "text": [
      "SELECT \"shop_product\".\"id\",\n",
      "       \"shop_product\".\"name\",\n",
      "       \"shop_product\".\"category\",\n",
      "       \"shop_product\".\"cost_price\"\n",
      "FROM \"shop_product\"\n"
     ]
    }
   ],
   "source": [
    "from shop.functions import sql, dataframe\n",
    "print(sql(Product.objects.all()))"
   ]
  },
  {
   "cell_type": "code",
   "execution_count": null,
   "metadata": {
    "collapsed": true
   },
   "outputs": [],
   "source": []
  }
 ],
 "metadata": {
  "kernelspec": {
   "display_name": "Django Shell-Plus",
   "language": "python",
   "name": "django_extensions"
  },
  "language_info": {
   "codemirror_mode": {
    "name": "ipython",
    "version": 3
   },
   "file_extension": ".py",
   "mimetype": "text/x-python",
   "name": "python",
   "nbconvert_exporter": "python",
   "pygments_lexer": "ipython3",
   "version": "3.5.0"
  }
 },
 "nbformat": 4,
 "nbformat_minor": 0
}
