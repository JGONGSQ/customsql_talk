{
 "cells": [
  {
   "cell_type": "markdown",
   "metadata": {
    "slideshow": {
     "slide_type": "slide"
    }
   },
   "source": [
    "\n",
    "# Django - Customise Your SQL\n"
   ]
  },
  {
   "cell_type": "markdown",
   "metadata": {
    "slideshow": {
     "slide_type": "slide"
    }
   },
   "source": [
    "\n",
    "## Josh Smeaton\n",
    "<hr>\n",
    "- jarshwah on #django / Twitter / Github / Slack\n",
    "- Software Engineer at Engage/LivePerson\n",
    "- SQL Nerd\n",
    "- Django Core Developer\n",
    "- Primary author of Expressions\n"
   ]
  },
  {
   "cell_type": "markdown",
   "metadata": {
    "slideshow": {
     "slide_type": "slide"
    }
   },
   "source": [
    "## Recent Developments\n",
    "<hr>\n",
    "\n"
   ]
  },
  {
   "cell_type": "markdown",
   "metadata": {
    "slideshow": {
     "slide_type": "slide"
    }
   },
   "source": [
    "## Lookups (1.7)\n",
    "<hr />\n",
    "\n",
    "```python\n",
    "Product.objects.filter(\n",
    "    tagarray__contains=['large', 'jumper']\n",
    ")\n",
    "```"
   ]
  },
  {
   "cell_type": "markdown",
   "metadata": {
    "slideshow": {
     "slide_type": "slide"
    }
   },
   "source": [
    "## Transforms (1.7)\n",
    "<hr />\n",
    "\n",
    "```python\n",
    "Product.objects.filter(\n",
    "    name__lower__contains='jumper'\n",
    ")\n",
    "```"
   ]
  },
  {
   "cell_type": "markdown",
   "metadata": {
    "slideshow": {
     "slide_type": "slide"
    }
   },
   "source": [
    "## Expressions (1.8)\n",
    "<hr />\n",
    "\n",
    "```python\n",
    "Sale.objects.annotate(\n",
    "    sale_month=TruncMonth('sale_date')\n",
    ").values('sale_month').annotate(\n",
    "    sales_per_month=Count('id')\n",
    ")\n",
    "```"
   ]
  },
  {
   "cell_type": "markdown",
   "metadata": {
    "slideshow": {
     "slide_type": "slide"
    }
   },
   "source": [
    "# Sales Reporting\n",
    "<hr />\n"
   ]
  },
  {
   "cell_type": "code",
   "execution_count": 7,
   "metadata": {
    "collapsed": false,
    "slideshow": {
     "slide_type": "slide"
    }
   },
   "outputs": [
    {
     "data": {
      "text/html": [
       "<div>\n",
       "<table border=\"1\" class=\"dataframe\">\n",
       "  <thead>\n",
       "    <tr style=\"text-align: right;\">\n",
       "      <th></th>\n",
       "      <th>product__category</th>\n",
       "      <th>revenue</th>\n",
       "      <th>sales</th>\n",
       "    </tr>\n",
       "  </thead>\n",
       "  <tbody>\n",
       "    <tr>\n",
       "      <th>0</th>\n",
       "      <td>Women</td>\n",
       "      <td>39359.00</td>\n",
       "      <td>332</td>\n",
       "    </tr>\n",
       "    <tr>\n",
       "      <th>1</th>\n",
       "      <td>Men</td>\n",
       "      <td>41281.00</td>\n",
       "      <td>340</td>\n",
       "    </tr>\n",
       "    <tr>\n",
       "      <th>2</th>\n",
       "      <td>Kids</td>\n",
       "      <td>10245.00</td>\n",
       "      <td>328</td>\n",
       "    </tr>\n",
       "  </tbody>\n",
       "</table>\n",
       "</div>"
      ],
      "text/plain": [
       "  product__category   revenue  sales\n",
       "0             Women  39359.00    332\n",
       "1               Men  41281.00    340\n",
       "2              Kids  10245.00    328"
      ]
     },
     "metadata": {},
     "output_type": "display_data"
    }
   ],
   "source": [
    "from IPython.display import display\n",
    "from shop.functions import table, sql\n",
    "\n",
    "# Show sales and revenue per category\n",
    "qs = Sale.objects.values('product__category').annotate(\n",
    "    sales=Count('id'),\n",
    "    revenue=Sum('sale_price')\n",
    ")\n",
    "\n",
    "display(table(qs))\n"
   ]
  },
  {
   "cell_type": "markdown",
   "metadata": {
    "slideshow": {
     "slide_type": "slide"
    }
   },
   "source": [
    "## We're not interested in Kids products\n",
    "<hr />\n",
    "\n",
    "![officespace](assets/office-space-1.jpg)"
   ]
  },
  {
   "cell_type": "code",
   "execution_count": 2,
   "metadata": {
    "collapsed": false,
    "slideshow": {
     "slide_type": "slide"
    }
   },
   "outputs": [
    {
     "data": {
      "text/html": [
       "<div>\n",
       "<table border=\"1\" class=\"dataframe\">\n",
       "  <thead>\n",
       "    <tr style=\"text-align: right;\">\n",
       "      <th></th>\n",
       "      <th>product__category</th>\n",
       "      <th>revenue</th>\n",
       "      <th>sales</th>\n",
       "    </tr>\n",
       "  </thead>\n",
       "  <tbody>\n",
       "    <tr>\n",
       "      <th>0</th>\n",
       "      <td>Women</td>\n",
       "      <td>39359.00</td>\n",
       "      <td>332</td>\n",
       "    </tr>\n",
       "    <tr>\n",
       "      <th>1</th>\n",
       "      <td>Men</td>\n",
       "      <td>41281.00</td>\n",
       "      <td>340</td>\n",
       "    </tr>\n",
       "  </tbody>\n",
       "</table>\n",
       "</div>"
      ],
      "text/plain": [
       "  product__category   revenue  sales\n",
       "0             Women  39359.00    332\n",
       "1               Men  41281.00    340"
      ]
     },
     "metadata": {},
     "output_type": "display_data"
    }
   ],
   "source": [
    "from IPython.display import display\n",
    "from shop.functions import table, sql\n",
    "\n",
    "# Show sales and revenue per category, but not Kids\n",
    "qs = Sale.objects.exclude(\n",
    "    product__category='Kids'\n",
    ").values('product__category').annotate(\n",
    "    sales=Count('id'),\n",
    "    revenue=Sum('sale_price')\n",
    ")\n",
    "\n",
    "display(table(qs))"
   ]
  },
  {
   "cell_type": "markdown",
   "metadata": {
    "slideshow": {
     "slide_type": "slide"
    }
   },
   "source": [
    "## WEBSCALE!\n",
    "<hr>\n",
    "\n",
    "![webscale](assets/office-space-2.jpg)"
   ]
  },
  {
   "cell_type": "markdown",
   "metadata": {
    "collapsed": false,
    "slideshow": {
     "slide_type": "slide"
    }
   },
   "source": [
    "```sql\n",
    "SELECT \"shop_product\".\"category\",\n",
    "       SUM(\"shop_sale\".\"sale_price\") AS \"revenue\",\n",
    "       COUNT(\"shop_sale\".\"id\") AS \"sales\"\n",
    "FROM \"shop_sale\"\n",
    "INNER JOIN \"shop_product\" \n",
    "ON (\"shop_sale\".\"product_id\" = \"shop_product\".\"id\")\n",
    "WHERE NOT (\"shop_product\".\"category\" = 'Kids')\n",
    "GROUP BY \"shop_product\".\"category\"\n",
    "```"
   ]
  },
  {
   "cell_type": "markdown",
   "metadata": {
    "slideshow": {
     "slide_type": "fragment"
    }
   },
   "source": [
    "- \"`NOT (condition = value)\" vs \"condition != value\"` **5 characters!**\n",
    "- Django has to do a lot more work for (correct) negated conditions"
   ]
  },
  {
   "cell_type": "code",
   "execution_count": 4,
   "metadata": {
    "collapsed": false,
    "slideshow": {
     "slide_type": "slide"
    }
   },
   "outputs": [],
   "source": [
    "from django.db.models import Lookup\n",
    "from django.db.models.fields import Field\n",
    "\n",
    "@Field.register_lookup\n",
    "class NotEqual(Lookup):\n",
    "    lookup_name = 'ne'\n",
    "\n",
    "    def as_sql(self, compiler, connection):\n",
    "        lhs, lhs_params = self.process_lhs(\n",
    "            compiler, connection)\n",
    "        rhs, rhs_params = self.process_rhs(\n",
    "            compiler, connection)\n",
    "        params = lhs_params + rhs_params\n",
    "        return '%s != %s' % (lhs, rhs), params\n",
    "\n",
    "\n",
    "    "
   ]
  },
  {
   "cell_type": "code",
   "execution_count": 12,
   "metadata": {
    "collapsed": false,
    "slideshow": {
     "slide_type": "slide"
    }
   },
   "outputs": [
    {
     "name": "stdout",
     "output_type": "stream",
     "text": [
      "1000 loops, best of 3: 456 µs per loop\n",
      "1000 loops, best of 3: 488 µs per loop\n"
     ]
    }
   ],
   "source": [
    "%timeit -c list(Product.objects.exclude(category='Kids'))\n",
    "%timeit -c list(Product.objects.filter(category__ne='Kids'))"
   ]
  },
  {
   "cell_type": "markdown",
   "metadata": {
    "slideshow": {
     "slide_type": "slide"
    }
   },
   "source": [
    "# Actually, can we see revenue by Quarter?\n",
    "<hr />\n",
    "\n",
    "![quarter](assets/office-space-3.png)"
   ]
  },
  {
   "cell_type": "code",
   "execution_count": 10,
   "metadata": {
    "collapsed": false,
    "slideshow": {
     "slide_type": "slide"
    }
   },
   "outputs": [],
   "source": [
    "from datetime import datetime\n",
    "from django.db.models import Transform\n",
    "from django.db.models.fields import DateField, DateTimeField\n",
    "\n",
    "\n",
    "@DateField.register_lookup\n",
    "@DateTimeField.register_lookup\n",
    "class TruncQuarter(Transform):\n",
    "    function = 'DATE_TRUNC'\n",
    "    template = \"%(function)s('quarter', %(expressions)s)\"\n",
    "    lookup_name = 'quarter'\n",
    "    \n",
    "    def __init__(\n",
    "        self, expression, output_field=DateTimeField(), **extra):\n",
    "        super().__init__(\n",
    "            expression, output_field=output_field, **extra)"
   ]
  },
  {
   "cell_type": "code",
   "execution_count": null,
   "metadata": {
    "collapsed": true,
    "slideshow": {
     "slide_type": "slide"
    }
   },
   "outputs": [],
   "source": [
    "def convert_value(self, value, expression, connection, context):\n",
    "    if ( isinstance(value, datetime) and\n",
    "         type(self.output_field) == DateField):\n",
    "        # we asked for a date but got a datetime\n",
    "        value = value.date()\n",
    "    return value\n",
    "\n",
    "def as_sqlite(self, compiler, connection):\n",
    "    raise NotImplementedError(\n",
    "        'sqlite does not support truncating to Quarter.')"
   ]
  },
  {
   "cell_type": "code",
   "execution_count": 13,
   "metadata": {
    "collapsed": true,
    "slideshow": {
     "slide_type": "slide"
    }
   },
   "outputs": [],
   "source": [
    "def resolve_expression(\n",
    "        self, query=None, allow_joins=True, reuse=None,\n",
    "        summarize=False, for_save=False\n",
    "    ):\n",
    "    copy = super().resolve_expression(\n",
    "        query, allow_joins, reuse, summarize, for_save)\n",
    "    \n",
    "    input_field = copy.lhs.output_field\n",
    "    if not isinstance(input_field, (DateField, DateTimeField)):\n",
    "        raise ValueError(\n",
    "        'Input expression must be DateField or DateTimeField'\n",
    "        )\n",
    "        \n",
    "    output_field = copy.output_field\n",
    "    if not isinstance(output_field, (DateField, DateTimeField)):\n",
    "        raise ValueError(\n",
    "        'output_field must be DateField or DateTimeField'\n",
    "        )\n",
    "    return copy"
   ]
  },
  {
   "cell_type": "markdown",
   "metadata": {
    "slideshow": {
     "slide_type": "slide"
    }
   },
   "source": [
    "# Was all that necessary?!\n",
    "<hr />\n"
   ]
  },
  {
   "cell_type": "code",
   "execution_count": 14,
   "metadata": {
    "collapsed": false,
    "slideshow": {
     "slide_type": "slide"
    }
   },
   "outputs": [
    {
     "data": {
      "text/plain": [
       "506"
      ]
     },
     "execution_count": 14,
     "metadata": {},
     "output_type": "execute_result"
    }
   ],
   "source": [
    "from datetime import datetime\n",
    "from django.db.models import DateField, DateTimeField\n",
    "from django.db.models.functions.datetime import TruncBase\n",
    "from django.utils import timezone\n",
    "\n",
    "@DateField.register_lookup\n",
    "@DateTimeField.register_lookup\n",
    "class TruncQtr(TruncBase):\n",
    "    kind = 'quarter'\n",
    "    lookup_name = 'qtr'\n",
    "\n",
    "Sale.objects.filter(\n",
    "    product__category__ne='Kids',\n",
    "    sale_date__qtr__gte=datetime(2016, 1, 1, tzinfo=timezone.utc)\n",
    ").count()"
   ]
  },
  {
   "cell_type": "code",
   "execution_count": 18,
   "metadata": {
    "collapsed": false,
    "slideshow": {
     "slide_type": "slide"
    }
   },
   "outputs": [
    {
     "data": {
      "text/html": [
       "<div>\n",
       "<table border=\"1\" class=\"dataframe\">\n",
       "  <thead>\n",
       "    <tr style=\"text-align: right;\">\n",
       "      <th></th>\n",
       "      <th>quarter</th>\n",
       "      <th>revenue</th>\n",
       "      <th>sales</th>\n",
       "    </tr>\n",
       "  </thead>\n",
       "  <tbody>\n",
       "    <tr>\n",
       "      <th>0</th>\n",
       "      <td>2015-07-01 00:00:00+00:00</td>\n",
       "      <td>5383.00</td>\n",
       "      <td>48</td>\n",
       "    </tr>\n",
       "    <tr>\n",
       "      <th>1</th>\n",
       "      <td>2015-10-01 00:00:00+00:00</td>\n",
       "      <td>14046.00</td>\n",
       "      <td>118</td>\n",
       "    </tr>\n",
       "    <tr>\n",
       "      <th>2</th>\n",
       "      <td>2016-01-01 00:00:00+00:00</td>\n",
       "      <td>28337.00</td>\n",
       "      <td>231</td>\n",
       "    </tr>\n",
       "    <tr>\n",
       "      <th>3</th>\n",
       "      <td>2016-04-01 00:00:00+00:00</td>\n",
       "      <td>32874.00</td>\n",
       "      <td>275</td>\n",
       "    </tr>\n",
       "  </tbody>\n",
       "</table>\n",
       "</div>"
      ],
      "text/plain": [
       "                    quarter   revenue  sales\n",
       "0 2015-07-01 00:00:00+00:00   5383.00     48\n",
       "1 2015-10-01 00:00:00+00:00  14046.00    118\n",
       "2 2016-01-01 00:00:00+00:00  28337.00    231\n",
       "3 2016-04-01 00:00:00+00:00  32874.00    275"
      ]
     },
     "metadata": {},
     "output_type": "display_data"
    }
   ],
   "source": [
    "from IPython.display import display\n",
    "from shop.functions import table, TruncQtr\n",
    "\n",
    "qs = Sale.objects.filter(\n",
    "    product__category__ne='Kids'\n",
    ").annotate(quarter=TruncQtr('sale_date')\n",
    ").values('quarter').annotate(\n",
    "    revenue=Sum('sale_price'), sales=Count('id')\n",
    ").order_by('quarter')\n",
    "\n",
    "display(table(qs))"
   ]
  },
  {
   "cell_type": "markdown",
   "metadata": {
    "slideshow": {
     "slide_type": "slide"
    }
   },
   "source": [
    "# You're a bit of a wizz! \n",
    "<hr />\n",
    "\n",
    "## Now break out VIC and NSW individually.\n",
    "\n",
    "![wizz](assets/office-space-4.jpg)"
   ]
  },
  {
   "cell_type": "code",
   "execution_count": 10,
   "metadata": {
    "collapsed": false,
    "slideshow": {
     "slide_type": "slide"
    }
   },
   "outputs": [
    {
     "data": {
      "text/plain": [
       "Sum(CASE WHEN <Q: (AND: ('state', 'VIC'))> THEN F(sale_price), ELSE Value(None))"
      ]
     },
     "execution_count": 10,
     "metadata": {},
     "output_type": "execute_result"
    }
   ],
   "source": [
    "Sum(\n",
    "    Case(\n",
    "        When(state='VIC', then='sale_price'), \n",
    "        default=None\n",
    "    )\n",
    ")"
   ]
  },
  {
   "cell_type": "markdown",
   "metadata": {
    "slideshow": {
     "slide_type": "slide"
    }
   },
   "source": [
    "# That looks like SUMIF\n",
    "<hr />\n",
    "\n",
    "## We can do better.\n",
    "\n",
    "![sumif](assets/office-space-5.jpg)"
   ]
  },
  {
   "cell_type": "code",
   "execution_count": 11,
   "metadata": {
    "collapsed": true,
    "slideshow": {
     "slide_type": "slide"
    }
   },
   "outputs": [],
   "source": [
    "class SumIf(Sum):\n",
    "    \"\"\"\n",
    "    Executes the equivalent of\n",
    "        `Sum(Case(When(condition, then=field), default=None))`\n",
    "    \"\"\"\n",
    "    def __init__(self, field, condition=None, **lookups):\n",
    "        if lookups and condition is None:\n",
    "            condition = Q(**lookups)\n",
    "        case = Case(When(condition, then=field), default=None)\n",
    "        super().__init__(case)"
   ]
  },
  {
   "cell_type": "markdown",
   "metadata": {
    "slideshow": {
     "slide_type": "slide"
    }
   },
   "source": [
    "# Putting it altogether\n",
    "<hr />"
   ]
  },
  {
   "cell_type": "code",
   "execution_count": 17,
   "metadata": {
    "collapsed": false,
    "slideshow": {
     "slide_type": "slide"
    }
   },
   "outputs": [
    {
     "data": {
      "text/html": [
       "<div>\n",
       "<table border=\"1\" class=\"dataframe\">\n",
       "  <thead>\n",
       "    <tr style=\"text-align: right;\">\n",
       "      <th></th>\n",
       "      <th>quarter</th>\n",
       "      <th>rev_nsw</th>\n",
       "      <th>rev_vic</th>\n",
       "      <th>revenue</th>\n",
       "      <th>sales</th>\n",
       "    </tr>\n",
       "  </thead>\n",
       "  <tbody>\n",
       "    <tr>\n",
       "      <th>0</th>\n",
       "      <td>2015-07-01 00:00:00+00:00</td>\n",
       "      <td>1585.50</td>\n",
       "      <td>2261.00</td>\n",
       "      <td>5383.00</td>\n",
       "      <td>48</td>\n",
       "    </tr>\n",
       "    <tr>\n",
       "      <th>1</th>\n",
       "      <td>2015-10-01 00:00:00+00:00</td>\n",
       "      <td>5559.50</td>\n",
       "      <td>4101.00</td>\n",
       "      <td>14046.00</td>\n",
       "      <td>118</td>\n",
       "    </tr>\n",
       "    <tr>\n",
       "      <th>2</th>\n",
       "      <td>2016-01-01 00:00:00+00:00</td>\n",
       "      <td>8550.50</td>\n",
       "      <td>10993.50</td>\n",
       "      <td>28337.00</td>\n",
       "      <td>231</td>\n",
       "    </tr>\n",
       "    <tr>\n",
       "      <th>3</th>\n",
       "      <td>2016-04-01 00:00:00+00:00</td>\n",
       "      <td>9886.50</td>\n",
       "      <td>13785.00</td>\n",
       "      <td>32874.00</td>\n",
       "      <td>275</td>\n",
       "    </tr>\n",
       "  </tbody>\n",
       "</table>\n",
       "</div>"
      ],
      "text/plain": [
       "                    quarter  rev_nsw   rev_vic   revenue  sales\n",
       "0 2015-07-01 00:00:00+00:00  1585.50   2261.00   5383.00     48\n",
       "1 2015-10-01 00:00:00+00:00  5559.50   4101.00  14046.00    118\n",
       "2 2016-01-01 00:00:00+00:00  8550.50  10993.50  28337.00    231\n",
       "3 2016-04-01 00:00:00+00:00  9886.50  13785.00  32874.00    275"
      ]
     },
     "metadata": {},
     "output_type": "display_data"
    }
   ],
   "source": [
    "from IPython.display import display\n",
    "from shop.functions import SumIf, table, TruncQtr\n",
    "\n",
    "qs = Sale.objects.filter(product__category__ne='Kids'\n",
    ").annotate(quarter=TruncQtr('sale_date')\n",
    ").values('quarter').annotate(\n",
    "    revenue=Sum('sale_price'), sales=Count('id'),\n",
    "    rev_vic=SumIf('sale_price', state='VIC'),\n",
    "    rev_nsw=SumIf('sale_price', state='NSW')\n",
    ").order_by('quarter')\n",
    "\n",
    "display(table(qs))\n"
   ]
  },
  {
   "cell_type": "markdown",
   "metadata": {
    "slideshow": {
     "slide_type": "slide"
    }
   },
   "source": [
    "# Hate it! Throw it away.\n",
    "\n",
    "## Give me Quarter Over Quarter growth instead.\n",
    "\n",
    "## That should be easy.\n",
    "\n",
    "![startagain](assets/office-space-6.jpg)"
   ]
  },
  {
   "cell_type": "code",
   "execution_count": 3,
   "metadata": {
    "collapsed": false,
    "slideshow": {
     "slide_type": "slide"
    }
   },
   "outputs": [],
   "source": [
    "analyticsql = \"\"\"\n",
    "SELECT\n",
    "    quarter, revenue,\n",
    "    round((\n",
    "        revenue / LAG(revenue) over (ORDER BY quarter) - 1\n",
    "    ) * 100, 2) || '%' rgrowth\n",
    "FROM (\n",
    "    SELECT\n",
    "        DATE_TRUNC('quarter', s.sale_date) quarter,\n",
    "        SUM(s.sale_price)                  revenue\n",
    "    FROM shop_sale    s\n",
    "    JOIN shop_product p ON s.product_id = p.id\n",
    "    GROUP BY DATE_TRUNC('quarter', s.sale_date)\n",
    "    ORDER BY quarter    \n",
    ") quarterly_revenue\"\"\""
   ]
  },
  {
   "cell_type": "code",
   "execution_count": 1,
   "metadata": {
    "collapsed": false,
    "slideshow": {
     "slide_type": "slide"
    }
   },
   "outputs": [
    {
     "data": {
      "text/html": [
       "<div>\n",
       "<table border=\"1\" class=\"dataframe\">\n",
       "  <thead>\n",
       "    <tr style=\"text-align: right;\">\n",
       "      <th></th>\n",
       "      <th>quarter</th>\n",
       "      <th>revenue</th>\n",
       "      <th>rgrowth</th>\n",
       "    </tr>\n",
       "  </thead>\n",
       "  <tbody>\n",
       "    <tr>\n",
       "      <th>0</th>\n",
       "      <td>2015-07-01 00:00:00+00:00</td>\n",
       "      <td>5715.00</td>\n",
       "      <td>None</td>\n",
       "    </tr>\n",
       "    <tr>\n",
       "      <th>1</th>\n",
       "      <td>2015-10-01 00:00:00+00:00</td>\n",
       "      <td>16029.00</td>\n",
       "      <td>180.47%</td>\n",
       "    </tr>\n",
       "    <tr>\n",
       "      <th>2</th>\n",
       "      <td>2016-01-01 00:00:00+00:00</td>\n",
       "      <td>32137.00</td>\n",
       "      <td>100.49%</td>\n",
       "    </tr>\n",
       "    <tr>\n",
       "      <th>3</th>\n",
       "      <td>2016-04-01 00:00:00+00:00</td>\n",
       "      <td>37004.00</td>\n",
       "      <td>15.14%</td>\n",
       "    </tr>\n",
       "  </tbody>\n",
       "</table>\n",
       "</div>"
      ],
      "text/plain": [
       "                    quarter   revenue  rgrowth\n",
       "0 2015-07-01 00:00:00+00:00   5715.00     None\n",
       "1 2015-10-01 00:00:00+00:00  16029.00  180.47%\n",
       "2 2016-01-01 00:00:00+00:00  32137.00  100.49%\n",
       "3 2016-04-01 00:00:00+00:00  37004.00   15.14%"
      ]
     },
     "metadata": {},
     "output_type": "display_data"
    }
   ],
   "source": [
    "from IPython.display import display\n",
    "from django.db import connection\n",
    "from shop.functions import analyticsql, table\n",
    "\n",
    "cursor = connection.cursor()\n",
    "cursor.execute(analyticsql)\n",
    "columns = [column[0] for column in cursor.description]\n",
    "results = []\n",
    "for row in cursor:\n",
    "    results.append(dict(zip(columns, row)))\n",
    "display(table(results))"
   ]
  },
  {
   "cell_type": "markdown",
   "metadata": {
    "slideshow": {
     "slide_type": "slide"
    }
   },
   "source": [
    "# Thank You\n",
    "\n",
    "![finished](assets/office-space-7.jpg)"
   ]
  }
 ],
 "metadata": {
  "celltoolbar": "Slideshow",
  "kernelspec": {
   "display_name": "Django Shell-Plus",
   "language": "python",
   "name": "django_extensions"
  },
  "language_info": {
   "codemirror_mode": {
    "name": "ipython",
    "version": 3
   },
   "file_extension": ".py",
   "mimetype": "text/x-python",
   "name": "python",
   "nbconvert_exporter": "python",
   "pygments_lexer": "ipython3",
   "version": "3.4.3"
  },
  "livereveal": {
   "height": 720,
   "scroll": false,
   "theme": "simple",
   "width": 1280
  }
 },
 "nbformat": 4,
 "nbformat_minor": 0
}
