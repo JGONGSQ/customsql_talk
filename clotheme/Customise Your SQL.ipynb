{
 "cells": [
  {
   "cell_type": "markdown",
   "metadata": {},
   "source": [
    " "
   ]
  },
  {
   "cell_type": "markdown",
   "metadata": {},
   "source": [
    " "
   ]
  },
  {
   "cell_type": "markdown",
   "metadata": {},
   "source": [
    " "
   ]
  },
  {
   "cell_type": "markdown",
   "metadata": {},
   "source": [
    " "
   ]
  },
  {
   "cell_type": "markdown",
   "metadata": {},
   "source": [
    "\n",
    "# Django - Customise Your SQL\n"
   ]
  },
  {
   "cell_type": "markdown",
   "metadata": {},
   "source": [
    " "
   ]
  },
  {
   "cell_type": "markdown",
   "metadata": {},
   "source": [
    "\n",
    "## Josh Smeaton\n",
    "<hr>\n",
    "- jarshwah on #django / Twitter / Github / Slack\n",
    "- Software Engineer at Engage/LivePerson\n",
    "- SQL Nerd\n",
    "- Django Core Developer\n",
    "- Primary author of Expressions\n"
   ]
  },
  {
   "cell_type": "markdown",
   "metadata": {},
   "source": [
    " "
   ]
  },
  {
   "cell_type": "markdown",
   "metadata": {},
   "source": [
    " "
   ]
  },
  {
   "cell_type": "markdown",
   "metadata": {},
   "source": [
    " "
   ]
  },
  {
   "cell_type": "markdown",
   "metadata": {},
   "source": [
    " "
   ]
  },
  {
   "cell_type": "markdown",
   "metadata": {},
   "source": [
    " "
   ]
  },
  {
   "cell_type": "markdown",
   "metadata": {},
   "source": [
    " "
   ]
  },
  {
   "cell_type": "markdown",
   "metadata": {},
   "source": [
    "## Recent Developments\n",
    "<hr>\n",
    "- Lookups (1.7)\n",
    "\n",
    "```python\n",
    "Product.objects.filter(tagarray__contains=['large', 'jumper'])\n",
    "```\n",
    "\n",
    "- Transforms (1.7)\n",
    "\n",
    "```python\n",
    "Product.objects.filter(name__lower__contains='jumper')\n",
    "```\n",
    "\n",
    "- Expressions (1.8)\n",
    "\n",
    "```python\n",
    "Sale.objects.annotate(\n",
    "    sale_month=TruncMonth('sale_date')\n",
    ").values('sale_month').annotate(sales_per_month=Count('id'))\n",
    "```\n"
   ]
  },
  {
   "cell_type": "markdown",
   "metadata": {},
   "source": [
    " "
   ]
  },
  {
   "cell_type": "markdown",
   "metadata": {},
   "source": [
    " "
   ]
  },
  {
   "cell_type": "markdown",
   "metadata": {},
   "source": [
    "# Sales Reporting"
   ]
  },
  {
   "cell_type": "raw",
   "metadata": {},
   "source": [
    " "
   ]
  },
  {
   "cell_type": "code",
   "execution_count": null,
   "metadata": {
    "collapsed": false
   },
   "outputs": [],
   "source": [
    "from IPython.display import display\n",
    "from shop.functions import table, sql\n",
    "\n",
    "# Show sales and revenue per category\n",
    "qs = Sale.objects.values('product__category').annotate(\n",
    "    sales=Count('id'),\n",
    "    revenue=Sum('sale_price')\n",
    ")\n",
    "\n",
    "display(table(qs))\n"
   ]
  },
  {
   "cell_type": "markdown",
   "metadata": {
    "collapsed": false
   },
   "source": [
    " "
   ]
  },
  {
   "cell_type": "markdown",
   "metadata": {},
   "source": [
    "## We're not interested in Kids products"
   ]
  },
  {
   "cell_type": "markdown",
   "metadata": {},
   "source": [
    " "
   ]
  },
  {
   "cell_type": "code",
   "execution_count": null,
   "metadata": {
    "collapsed": false
   },
   "outputs": [],
   "source": [
    "from IPython.display import display\n",
    "from shop.functions import table, sql\n",
    "\n",
    "# Show sales and revenue per category, but not Kids\n",
    "qs = Sale.objects.exclude(\n",
    "    product__category=Product.KIDS\n",
    ").values('product__category').annotate(\n",
    "    sales=Count('id'),\n",
    "    revenue=Sum('sale_price')\n",
    ")\n",
    "\n",
    "display(table(qs))"
   ]
  },
  {
   "cell_type": "markdown",
   "metadata": {},
   "source": [
    " "
   ]
  },
  {
   "cell_type": "markdown",
   "metadata": {},
   "source": [
    "## WEBSCALE!\n",
    "<hr>\n",
    "\n",
    "```sql\n",
    "SELECT \"shop_product\".\"category\",\n",
    "       SUM(\"shop_sale\".\"sale_price\") AS \"revenue\",\n",
    "       COUNT(\"shop_sale\".\"id\") AS \"sales\"\n",
    "FROM \"shop_sale\"\n",
    "INNER JOIN \"shop_product\" ON (\"shop_sale\".\"product_id\" = \"shop_product\".\"id\")\n",
    "WHERE NOT (\"shop_product\".\"category\" = Kids)\n",
    "GROUP BY \"shop_product\".\"category\"\n",
    "```\n",
    "\n",
    "- \"NOT (condition = value)\" vs \"condition != value\" 5 characters!\n",
    "- Django has to do a lot more work for (correct) negated conditions"
   ]
  },
  {
   "cell_type": "markdown",
   "metadata": {},
   "source": [
    " "
   ]
  },
  {
   "cell_type": "code",
   "execution_count": null,
   "metadata": {
    "collapsed": true
   },
   "outputs": [],
   "source": [
    "from django.db.models import Lookup\n",
    "from django.db.models.fields import Field\n",
    "\n",
    "@Field.register_lookup\n",
    "class NotEqual(Lookup):\n",
    "    lookup_name = 'ne'\n",
    "\n",
    "    def as_sql(self, compiler, connection):\n",
    "        lhs, lhs_params = self.process_lhs(compiler, connection)\n",
    "        rhs, rhs_params = self.process_rhs(compiler, connection)\n",
    "        params = lhs_params + rhs_params\n",
    "        return '%s != %s' % (lhs, rhs), params\n",
    "    "
   ]
  },
  {
   "cell_type": "code",
   "execution_count": null,
   "metadata": {
    "collapsed": false
   },
   "outputs": [],
   "source": [
    "%timeit -r 3 list(Product.objects.exclude(category='Kids'))\n",
    "%timeit -r 3 list(Product.objects.filter(category__ne='Kids'))"
   ]
  },
  {
   "cell_type": "code",
   "execution_count": null,
   "metadata": {
    "collapsed": false
   },
   "outputs": [],
   "source": [
    "from IPython.display import display\n",
    "from shop.functions import sql, dataframe\n",
    "df = dataframe(Product.objects.values().order_by('cost_price'))\n",
    "display(df)"
   ]
  },
  {
   "cell_type": "code",
   "execution_count": null,
   "metadata": {
    "collapsed": false
   },
   "outputs": [],
   "source": [
    "from shop.functions import sql, dataframe\n",
    "print(sql(Product.objects.all()))"
   ]
  },
  {
   "cell_type": "code",
   "execution_count": null,
   "metadata": {
    "collapsed": true
   },
   "outputs": [],
   "source": []
  }
 ],
 "metadata": {
  "kernelspec": {
   "display_name": "Django Shell-Plus",
   "language": "python",
   "name": "django_extensions"
  },
  "language_info": {
   "codemirror_mode": {
    "name": "ipython",
    "version": 3
   },
   "file_extension": ".py",
   "mimetype": "text/x-python",
   "name": "python",
   "nbconvert_exporter": "python",
   "pygments_lexer": "ipython3",
   "version": "3.5.0"
  }
 },
 "nbformat": 4,
 "nbformat_minor": 0
}
